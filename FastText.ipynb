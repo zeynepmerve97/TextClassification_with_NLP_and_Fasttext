{
  "nbformat": 4,
  "nbformat_minor": 0,
  "metadata": {
    "colab": {
      "name": "FastText",
      "provenance": [],
      "collapsed_sections": []
    },
    "kernelspec": {
      "name": "python3",
      "display_name": "Python 3"
    },
    "language_info": {
      "name": "python"
    },
    "accelerator": "GPU"
  },
  "cells": [
    {
      "cell_type": "markdown",
      "metadata": {
        "id": "g2UpG-n4QcBq"
      },
      "source": [
        "# TURKISH TEXT CLASSIFICATION"
      ]
    },
    {
      "cell_type": "markdown",
      "metadata": {
        "id": "IWpt8UtRQhaP"
      },
      "source": [
        "### Kaggle Requirements"
      ]
    },
    {
      "cell_type": "code",
      "metadata": {
        "id": "n-57xBG2QE9X"
      },
      "source": [
        "!pip install -q kaggle\n",
        "from google.colab import files\n",
        "files.upload()"
      ],
      "execution_count": null,
      "outputs": []
    },
    {
      "cell_type": "code",
      "metadata": {
        "id": "ZwdtBs87QRAR"
      },
      "source": [
        "!mkdir ~/.kaggle\n",
        "!cp kaggle.json ~/.kaggle/\n",
        "!chmod 600 ~/.kaggle/kaggle.json\n",
        "!kaggle competitions download -c dogus-teknoloji-n11\n",
        "!unzip train_n11.csv.zip -d sample_data\n",
        "!unzip test_n11.csv.zip -d sample_data"
      ],
      "execution_count": null,
      "outputs": []
    },
    {
      "cell_type": "markdown",
      "metadata": {
        "id": "qO8vzW1LhOft"
      },
      "source": [
        "### Importing Fasttext "
      ]
    },
    {
      "cell_type": "code",
      "metadata": {
        "id": "MazgwAfiFdvC"
      },
      "source": [
        "!git clone https://github.com/facebookresearch/fastText.git\n",
        "!cd fastText\n",
        "!pip install fastText\n",
        "\n",
        "import fasttext"
      ],
      "execution_count": null,
      "outputs": []
    },
    {
      "cell_type": "code",
      "metadata": {
        "id": "LEDJctkxiFS5"
      },
      "source": [
        "!wget https://dl.fbaipublicfiles.com/fasttext/vectors-crawl/cc.tr.300.vec.gz\n",
        "!gzip -d cc.tr.300.vec.gz"
      ],
      "execution_count": null,
      "outputs": []
    },
    {
      "cell_type": "markdown",
      "metadata": {
        "id": "mGoYCaQAQlz2"
      },
      "source": [
        "### Libraries"
      ]
    },
    {
      "cell_type": "code",
      "metadata": {
        "id": "EGSRB79AcRaj"
      },
      "source": [
        "import re\n",
        "import gc\n",
        "import nltk\n",
        "import string\n",
        "from bs4 import BeautifulSoup\n",
        "\n",
        "\n",
        "import numpy as np\n",
        "import pandas as pd\n",
        "from sklearn.model_selection import KFold\n",
        "from sklearn.model_selection import train_test_split\n",
        "from sklearn.metrics import classification_report, f1_score"
      ],
      "execution_count": null,
      "outputs": []
    },
    {
      "cell_type": "markdown",
      "metadata": {
        "id": "jzWJJmmCk9px"
      },
      "source": [
        "### Dataset Preprocessing"
      ]
    },
    {
      "cell_type": "code",
      "metadata": {
        "id": "Fv0Gy5LXbSR9"
      },
      "source": [
        "df_train = pd.read_csv(\"sample_data/train_n11.csv\", sep='|')\n",
        "df_test = pd.read_csv(\"sample_data/test_n11.csv\", sep='|')\n",
        "df_sub = pd.read_csv(\"sample_submission_n11.csv\")"
      ],
      "execution_count": null,
      "outputs": []
    },
    {
      "cell_type": "code",
      "metadata": {
        "colab": {
          "base_uri": "https://localhost:8080/"
        },
        "id": "JoTZNykrkt45",
        "outputId": "ae007f6e-cc78-4017-9044-7984a2c14974"
      },
      "source": [
        "print(df_train.CATEGORY_ID.unique())"
      ],
      "execution_count": null,
      "outputs": [
        {
          "output_type": "stream",
          "name": "stdout",
          "text": [
            "[1000365 1001377 1001527 1000420 1000958 1000271 1003197 1000037 1001693\n",
            " 1000264 1001676 1000476 1000038 1000402 1000426 1001660 1000830 1000180\n",
            " 1000262 1000361 1000352 1000191 1000258 1000173 1000024 1000479 1001679\n",
            " 1000393 1185232 1000436 1000834 1001580 1000186 1182207 1001522 1001524\n",
            " 1002510 1001410 1000950 1002599 1000185 1002547 1000208 1000956 1000561\n",
            " 1000184 1000354 1000967 1000454 1000833 1000542 1137102 1001479 1000953\n",
            " 1002512 1003389 1000259 1001384 1000835 1002509 1000353 1002479 1001429\n",
            " 1187203 1000197 1000457 1106103 1153150 1001426 1185202 1000263 1000324\n",
            " 1000446 1003382 1000340 1000363 1000474 1000543 1001412 1000957 1106104\n",
            " 1001653 1001669 1000347 1182215 1000490 1001395 1001576 1001399 1000205\n",
            " 1000368 1000380 1000395 1140100 1000190 1000350 1000538 1001421 1000202\n",
            " 1001662 1000394 1002603 1000400 1000013 1001452 1001506 1000383 1106101\n",
            " 1000200 1174203 1137103 1002600 1000286 1000422 1002589 1000440 1000007\n",
            " 1001573 1001441 1001428 1002478 1024100 1000396 1165207 1001577 1003208\n",
            " 1000181 1001677 1000985 1001451 1002584 1000381 1002517 1000204 1001094\n",
            " 1137101 1001411 1000391 1000424 1000196 1001569 1000541 1002602 1002513\n",
            " 1068101 1000362 1001396 1185222 1001680 1065102 1106102 1000371 1001509\n",
            " 1002598 1000270 1002590 1185223 1000452 1000192 1001463 1000398 1001658\n",
            " 1000467 1000372 1001409 1002607 1002518 1001659 1000557 1001494 1000225\n",
            " 1000343 1000456 1001455 1131104 1131103 1002474]\n"
          ]
        }
      ]
    },
    {
      "cell_type": "code",
      "metadata": {
        "colab": {
          "base_uri": "https://localhost:8080/",
          "height": 203
        },
        "id": "b_brkrJFlKSl",
        "outputId": "1ad369b9-b86b-4924-fecd-9f016f6290c8"
      },
      "source": [
        "df_train['labels'] = pd.factorize(df_train.CATEGORY_ID)[0]\n",
        "df_train.head()"
      ],
      "execution_count": null,
      "outputs": [
        {
          "output_type": "execute_result",
          "data": {
            "text/html": [
              "<div>\n",
              "<style scoped>\n",
              "    .dataframe tbody tr th:only-of-type {\n",
              "        vertical-align: middle;\n",
              "    }\n",
              "\n",
              "    .dataframe tbody tr th {\n",
              "        vertical-align: top;\n",
              "    }\n",
              "\n",
              "    .dataframe thead th {\n",
              "        text-align: right;\n",
              "    }\n",
              "</style>\n",
              "<table border=\"1\" class=\"dataframe\">\n",
              "  <thead>\n",
              "    <tr style=\"text-align: right;\">\n",
              "      <th></th>\n",
              "      <th>ID</th>\n",
              "      <th>TITLE</th>\n",
              "      <th>DESCRIPTION</th>\n",
              "      <th>CATEGORY_ID</th>\n",
              "      <th>labels</th>\n",
              "    </tr>\n",
              "  </thead>\n",
              "  <tbody>\n",
              "    <tr>\n",
              "      <th>0</th>\n",
              "      <td>46715</td>\n",
              "      <td>Sonia SN-X60 Kulak Üstü Oyuncu Kulaklık</td>\n",
              "      <td>&lt;style&gt;\\n    .uni-content {\\n        font-fami...</td>\n",
              "      <td>1000365</td>\n",
              "      <td>0</td>\n",
              "    </tr>\n",
              "    <tr>\n",
              "      <th>1</th>\n",
              "      <td>77151</td>\n",
              "      <td>ABC Power Sıvı Bulaşık Deterjanı 1370 G</td>\n",
              "      <td>&lt;style&gt;\\n    .uni-content {\\n        font-fami...</td>\n",
              "      <td>1001377</td>\n",
              "      <td>1</td>\n",
              "    </tr>\n",
              "    <tr>\n",
              "      <th>2</th>\n",
              "      <td>91464</td>\n",
              "      <td>Einhell TE-CD 18/2 Li 18V 2.5 Ah Li-ion Akülü ...</td>\n",
              "      <td>&lt;style&gt;\\n    .uni-content {\\n        font-fami...</td>\n",
              "      <td>1001527</td>\n",
              "      <td>2</td>\n",
              "    </tr>\n",
              "    <tr>\n",
              "      <th>3</th>\n",
              "      <td>53057</td>\n",
              "      <td>Arzum AR4095 Olimpia Smart Cyclone 899 W Filtr...</td>\n",
              "      <td>&lt;meta name=\"viewport\" content=\"width=device-wi...</td>\n",
              "      <td>1000420</td>\n",
              "      <td>3</td>\n",
              "    </tr>\n",
              "    <tr>\n",
              "      <th>4</th>\n",
              "      <td>73951</td>\n",
              "      <td>Pedigree Biftekli ve Kümes Hayvanlı Yetişkin K...</td>\n",
              "      <td>&lt;style&gt;\\n    .uni-content {\\n        font-fami...</td>\n",
              "      <td>1000958</td>\n",
              "      <td>4</td>\n",
              "    </tr>\n",
              "  </tbody>\n",
              "</table>\n",
              "</div>"
            ],
            "text/plain": [
              "      ID  ... labels\n",
              "0  46715  ...      0\n",
              "1  77151  ...      1\n",
              "2  91464  ...      2\n",
              "3  53057  ...      3\n",
              "4  73951  ...      4\n",
              "\n",
              "[5 rows x 5 columns]"
            ]
          },
          "metadata": {},
          "execution_count": 9
        }
      ]
    },
    {
      "cell_type": "code",
      "metadata": {
        "id": "DaGTvygyMmwv"
      },
      "source": [
        "# TO LOWERCASE\n",
        "df_train['TITLE'] = df_train['TITLE'].str.lower()\n",
        "df_test['TITLE'] = df_test['TITLE'].str.lower()\n",
        "\n",
        "\n",
        "# REMOVING PUNCTUATIONS\n",
        "english_punctuations = string.punctuation\n",
        "punctuations_list = english_punctuations\n",
        "def cleaning_punctuations(text):\n",
        "    translator = str.maketrans('', '', punctuations_list)\n",
        "    return text.translate(translator)\n",
        "\n",
        "\n",
        "df_train['TITLE']= df_train['TITLE'].apply(lambda x: cleaning_punctuations(x))\n",
        "df_test['TITLE']= df_test['TITLE'].apply(lambda x: cleaning_punctuations(x))\n",
        "\n",
        "\n",
        "\n",
        "# CLEANING NUMERIC DATA\n",
        "def cleaning_numbers(data):\n",
        "    return re.sub('[0-9]+', '', data)\n",
        "\n",
        "df_train['TITLE'] = df_train['TITLE'].apply(lambda x: cleaning_numbers(x))\n",
        "df_test['TITLE'] = df_test['TITLE'].apply(lambda x: cleaning_numbers(x))"
      ],
      "execution_count": null,
      "outputs": []
    },
    {
      "cell_type": "code",
      "metadata": {
        "id": "rBGguU-Rlq8N"
      },
      "source": [
        "train, test = train_test_split(df_train, test_size=0.2, random_state=42)"
      ],
      "execution_count": null,
      "outputs": []
    },
    {
      "cell_type": "markdown",
      "metadata": {
        "id": "ah1CWtyIpeQa"
      },
      "source": [
        "## FASTTEXT"
      ]
    },
    {
      "cell_type": "code",
      "metadata": {
        "id": "7z2slAQxn1UO"
      },
      "source": [
        "train.reset_index(drop=True, inplace=True)\n",
        "test.reset_index(drop=True, inplace=True)"
      ],
      "execution_count": null,
      "outputs": []
    },
    {
      "cell_type": "code",
      "metadata": {
        "id": "Cvou2Kntm_xM"
      },
      "source": [
        "train[\"label_format\"]=0\n",
        "for i in range(len(train)):\n",
        "    train.label_format[i]=\"__label__\"+str(train.CATEGORY_ID[i])+\" \"+str(train.TITLE[i])\n",
        "\n",
        "test[\"label_format\"]=0\n",
        "for i in range(len(test)):\n",
        "    test.label_format[i]=\"__label__\"+str(test.CATEGORY_ID[i])+\" \"+str(test.TITLE[i])"
      ],
      "execution_count": null,
      "outputs": []
    },
    {
      "cell_type": "code",
      "metadata": {
        "id": "E_ZHDwY7oRzq"
      },
      "source": [
        "train.label_format.to_csv('fasttext_train.txt',index=None,header=None)\n",
        "test.label_format.to_csv('fasttext_test.txt',index=None,header=None)"
      ],
      "execution_count": null,
      "outputs": []
    },
    {
      "cell_type": "markdown",
      "metadata": {
        "id": "HV_HEYufqnf0"
      },
      "source": [
        "### Training & Testing the model"
      ]
    },
    {
      "cell_type": "code",
      "metadata": {
        "id": "jv2kRgcOoX3q"
      },
      "source": [
        "model = fasttext.train_supervised('fasttext_train.txt',epoch=100,lr=0.05,label_prefix='__label__',dim=300)"
      ],
      "execution_count": null,
      "outputs": []
    },
    {
      "cell_type": "code",
      "metadata": {
        "colab": {
          "base_uri": "https://localhost:8080/"
        },
        "id": "seVs_kZoqhNO",
        "outputId": "8bda2568-c8ba-40e1-d339-f8a656a8c29d"
      },
      "source": [
        "result = model.test('fasttext_train.txt')\n",
        "validation = model.test('fasttext_test.txt')\n",
        "\n",
        "\n",
        "# DISPLAY ACCURACY OF TRAINED MODEL\n",
        "text_line =  \"accuracy:\" + str(result[1])  + \",validation:\" + str(validation[1]) + '\\n' \n",
        "print(text_line)"
      ],
      "execution_count": null,
      "outputs": [
        {
          "output_type": "stream",
          "name": "stdout",
          "text": [
            "accuracy:0.9957829116244958,validation:0.98197152111471\n",
            "\n"
          ]
        }
      ]
    },
    {
      "cell_type": "markdown",
      "metadata": {
        "id": "8gbqpiql7cTw"
      },
      "source": [
        "### Submission"
      ]
    },
    {
      "cell_type": "code",
      "metadata": {
        "id": "8u5PugwN7b2B"
      },
      "source": [
        "predictions=[]\n",
        "for line in df_test['TITLE']:\n",
        "    pred_label=model.predict(line) \n",
        "    predictions.append(pred_label)\n",
        "\n",
        "column1 = [i[0] for i in predictions]"
      ],
      "execution_count": null,
      "outputs": []
    },
    {
      "cell_type": "code",
      "metadata": {
        "id": "6YvnbQ_c7pdQ"
      },
      "source": [
        "column2 = []\n",
        "for x in column1:\n",
        "  numeric_string = re.sub(\"[^0-9]\", \"\", str(x))\n",
        "  column2.append(numeric_string)"
      ],
      "execution_count": null,
      "outputs": []
    },
    {
      "cell_type": "code",
      "metadata": {
        "id": "PyzEi5FE7ua7"
      },
      "source": [
        "df_test['label1'] = column2\n",
        "df_test['label1'] = df_test['label1'].astype(int)\n",
        "\n",
        "df_sub.drop('Expected', axis = 1, inplace = True)\n",
        "df_sub['Expected'] = df_test['label1']"
      ],
      "execution_count": null,
      "outputs": []
    },
    {
      "cell_type": "code",
      "metadata": {
        "id": "v7WUh-LA70vX"
      },
      "source": [
        "df_sub.to_csv('Submissionft1.csv', encoding='utf-8',index= False )"
      ],
      "execution_count": null,
      "outputs": []
    }
  ]
}