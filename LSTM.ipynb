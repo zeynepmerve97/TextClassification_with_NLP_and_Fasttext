{
  "nbformat": 4,
  "nbformat_minor": 0,
  "metadata": {
    "colab": {
      "name": "LSTM.ipynb",
      "provenance": []
    },
    "kernelspec": {
      "name": "python3",
      "display_name": "Python 3"
    },
    "language_info": {
      "name": "python"
    }
  },
  "cells": [
    {
      "cell_type": "markdown",
      "metadata": {
        "id": "mYJlnFn1sq5a"
      },
      "source": [
        "# DOĞUŞ DATATHON"
      ]
    },
    {
      "cell_type": "markdown",
      "metadata": {
        "id": "8l_88-TNtQBU"
      },
      "source": [
        "## Kaggle Requirements"
      ]
    },
    {
      "cell_type": "code",
      "metadata": {
        "id": "OPsz5b_krkC4"
      },
      "source": [
        "!pip install -q kaggle\n",
        "from google.colab import files\n",
        "files.upload()"
      ],
      "execution_count": null,
      "outputs": []
    },
    {
      "cell_type": "code",
      "metadata": {
        "id": "bmWKIM3IsZ0d"
      },
      "source": [
        "!mkdir ~/.kaggle\n",
        "!cp kaggle.json ~/.kaggle/\n",
        "!chmod 600 ~/.kaggle/kaggle.json\n",
        "!kaggle competitions download -c dogus-teknoloji-n11\n",
        "!unzip train_n11.csv.zip -d sample_data\n",
        "!unzip test_n11.csv.zip -d sample_data"
      ],
      "execution_count": null,
      "outputs": []
    },
    {
      "cell_type": "markdown",
      "metadata": {
        "id": "1R3eMfIptTyp"
      },
      "source": [
        "## Importing necesary libraries"
      ]
    },
    {
      "cell_type": "code",
      "metadata": {
        "id": "8cz-Gw0IXpc8",
        "colab": {
          "base_uri": "https://localhost:8080/"
        },
        "outputId": "592c1b46-8318-4542-8344-9646ee23439c"
      },
      "source": [
        "%tensorflow_version 1.x"
      ],
      "execution_count": null,
      "outputs": [
        {
          "output_type": "stream",
          "name": "stdout",
          "text": [
            "TensorFlow 1.x selected.\n"
          ]
        }
      ]
    },
    {
      "cell_type": "code",
      "metadata": {
        "id": "4rs6lmsUtYXK"
      },
      "source": [
        "#Preproccesing\n",
        "from sklearn.preprocessing import LabelEncoder\n",
        "import matplotlib.pyplot as plt\n",
        "import seaborn as sns\n",
        "import pandas as pd \n",
        "import numpy as np\n",
        "\n",
        "# Evaluation Metrics\n",
        "from sklearn.model_selection import train_test_split\n",
        "from mlxtend.plotting import plot_confusion_matrix\n",
        "from sklearn.metrics import ConfusionMatrixDisplay\n",
        "from sklearn.metrics import confusion_matrix\n",
        "from sklearn import metrics\n",
        "\n",
        "# Tensorlow Libraries\n",
        "import tensorflow as tf\n",
        "from tensorflow import keras\n",
        "from tensorflow.keras.layers import Dense, LSTM, Dropout, Activation, Embedding\n",
        "from tensorflow.keras.preprocessing.text import Tokenizer\n",
        "from tensorflow.keras.models import load_model, Model, Sequential\n",
        "from tensorflow.keras.preprocessing import sequence\n",
        "from tensorflow.keras import layers, Input\n",
        "from tensorflow.keras.optimizers import Adam\n",
        "from tensorflow.keras.losses import SparseCategoricalCrossentropy\n",
        "\n",
        "# NLP processes\n",
        "import re\n",
        "import nltk\n",
        "import string\n",
        "from nltk.tokenize import RegexpTokenizer"
      ],
      "execution_count": null,
      "outputs": []
    },
    {
      "cell_type": "markdown",
      "metadata": {
        "id": "tIl4IPD2tnBb"
      },
      "source": [
        "## Data Preprocessing"
      ]
    },
    {
      "cell_type": "markdown",
      "metadata": {
        "id": "1Ws35JCM6-Ua"
      },
      "source": [
        "### Reading the data and checking the classes"
      ]
    },
    {
      "cell_type": "markdown",
      "metadata": {
        "id": "B0FDDh-Zf_bv"
      },
      "source": [
        "#### TRAIN DATA"
      ]
    },
    {
      "cell_type": "code",
      "metadata": {
        "colab": {
          "base_uri": "https://localhost:8080/",
          "height": 203
        },
        "id": "leNChPZBWVY3",
        "outputId": "48ff509c-b2f8-4115-b362-948e20e3eb0f"
      },
      "source": [
        "data = pd.read_csv('sample_data/train_n11.csv', sep='|')\n",
        "data.head()"
      ],
      "execution_count": null,
      "outputs": [
        {
          "output_type": "execute_result",
          "data": {
            "text/html": [
              "<div>\n",
              "<style scoped>\n",
              "    .dataframe tbody tr th:only-of-type {\n",
              "        vertical-align: middle;\n",
              "    }\n",
              "\n",
              "    .dataframe tbody tr th {\n",
              "        vertical-align: top;\n",
              "    }\n",
              "\n",
              "    .dataframe thead th {\n",
              "        text-align: right;\n",
              "    }\n",
              "</style>\n",
              "<table border=\"1\" class=\"dataframe\">\n",
              "  <thead>\n",
              "    <tr style=\"text-align: right;\">\n",
              "      <th></th>\n",
              "      <th>ID</th>\n",
              "      <th>TITLE</th>\n",
              "      <th>DESCRIPTION</th>\n",
              "      <th>CATEGORY_ID</th>\n",
              "    </tr>\n",
              "  </thead>\n",
              "  <tbody>\n",
              "    <tr>\n",
              "      <th>0</th>\n",
              "      <td>46715</td>\n",
              "      <td>Sonia SN-X60 Kulak Üstü Oyuncu Kulaklık</td>\n",
              "      <td>&lt;style&gt;\\n    .uni-content {\\n        font-fami...</td>\n",
              "      <td>1000365</td>\n",
              "    </tr>\n",
              "    <tr>\n",
              "      <th>1</th>\n",
              "      <td>77151</td>\n",
              "      <td>ABC Power Sıvı Bulaşık Deterjanı 1370 G</td>\n",
              "      <td>&lt;style&gt;\\n    .uni-content {\\n        font-fami...</td>\n",
              "      <td>1001377</td>\n",
              "    </tr>\n",
              "    <tr>\n",
              "      <th>2</th>\n",
              "      <td>91464</td>\n",
              "      <td>Einhell TE-CD 18/2 Li 18V 2.5 Ah Li-ion Akülü ...</td>\n",
              "      <td>&lt;style&gt;\\n    .uni-content {\\n        font-fami...</td>\n",
              "      <td>1001527</td>\n",
              "    </tr>\n",
              "    <tr>\n",
              "      <th>3</th>\n",
              "      <td>53057</td>\n",
              "      <td>Arzum AR4095 Olimpia Smart Cyclone 899 W Filtr...</td>\n",
              "      <td>&lt;meta name=\"viewport\" content=\"width=device-wi...</td>\n",
              "      <td>1000420</td>\n",
              "    </tr>\n",
              "    <tr>\n",
              "      <th>4</th>\n",
              "      <td>73951</td>\n",
              "      <td>Pedigree Biftekli ve Kümes Hayvanlı Yetişkin K...</td>\n",
              "      <td>&lt;style&gt;\\n    .uni-content {\\n        font-fami...</td>\n",
              "      <td>1000958</td>\n",
              "    </tr>\n",
              "  </tbody>\n",
              "</table>\n",
              "</div>"
            ],
            "text/plain": [
              "      ID  ... CATEGORY_ID\n",
              "0  46715  ...     1000365\n",
              "1  77151  ...     1001377\n",
              "2  91464  ...     1001527\n",
              "3  53057  ...     1000420\n",
              "4  73951  ...     1000958\n",
              "\n",
              "[5 rows x 4 columns]"
            ]
          },
          "metadata": {},
          "execution_count": 5
        }
      ]
    },
    {
      "cell_type": "code",
      "metadata": {
        "colab": {
          "base_uri": "https://localhost:8080/",
          "height": 203
        },
        "id": "CGCIn8Wx91F0",
        "outputId": "7e398d67-3918-42cb-c018-ec55f22bad4e"
      },
      "source": [
        "data.drop(['DESCRIPTION', 'ID'], axis=1, inplace=True)\n",
        "data.head()"
      ],
      "execution_count": null,
      "outputs": [
        {
          "output_type": "execute_result",
          "data": {
            "text/html": [
              "<div>\n",
              "<style scoped>\n",
              "    .dataframe tbody tr th:only-of-type {\n",
              "        vertical-align: middle;\n",
              "    }\n",
              "\n",
              "    .dataframe tbody tr th {\n",
              "        vertical-align: top;\n",
              "    }\n",
              "\n",
              "    .dataframe thead th {\n",
              "        text-align: right;\n",
              "    }\n",
              "</style>\n",
              "<table border=\"1\" class=\"dataframe\">\n",
              "  <thead>\n",
              "    <tr style=\"text-align: right;\">\n",
              "      <th></th>\n",
              "      <th>TITLE</th>\n",
              "      <th>CATEGORY_ID</th>\n",
              "    </tr>\n",
              "  </thead>\n",
              "  <tbody>\n",
              "    <tr>\n",
              "      <th>0</th>\n",
              "      <td>Sonia SN-X60 Kulak Üstü Oyuncu Kulaklık</td>\n",
              "      <td>1000365</td>\n",
              "    </tr>\n",
              "    <tr>\n",
              "      <th>1</th>\n",
              "      <td>ABC Power Sıvı Bulaşık Deterjanı 1370 G</td>\n",
              "      <td>1001377</td>\n",
              "    </tr>\n",
              "    <tr>\n",
              "      <th>2</th>\n",
              "      <td>Einhell TE-CD 18/2 Li 18V 2.5 Ah Li-ion Akülü ...</td>\n",
              "      <td>1001527</td>\n",
              "    </tr>\n",
              "    <tr>\n",
              "      <th>3</th>\n",
              "      <td>Arzum AR4095 Olimpia Smart Cyclone 899 W Filtr...</td>\n",
              "      <td>1000420</td>\n",
              "    </tr>\n",
              "    <tr>\n",
              "      <th>4</th>\n",
              "      <td>Pedigree Biftekli ve Kümes Hayvanlı Yetişkin K...</td>\n",
              "      <td>1000958</td>\n",
              "    </tr>\n",
              "  </tbody>\n",
              "</table>\n",
              "</div>"
            ],
            "text/plain": [
              "                                               TITLE  CATEGORY_ID\n",
              "0            Sonia SN-X60 Kulak Üstü Oyuncu Kulaklık      1000365\n",
              "1            ABC Power Sıvı Bulaşık Deterjanı 1370 G      1001377\n",
              "2  Einhell TE-CD 18/2 Li 18V 2.5 Ah Li-ion Akülü ...      1001527\n",
              "3  Arzum AR4095 Olimpia Smart Cyclone 899 W Filtr...      1000420\n",
              "4  Pedigree Biftekli ve Kümes Hayvanlı Yetişkin K...      1000958"
            ]
          },
          "metadata": {},
          "execution_count": 6
        }
      ]
    },
    {
      "cell_type": "code",
      "metadata": {
        "colab": {
          "base_uri": "https://localhost:8080/",
          "height": 350
        },
        "id": "l2I4gfUH6tBh",
        "outputId": "b444e7b1-7fd2-446b-a50e-60297995ba03"
      },
      "source": [
        "sns.countplot(data.CATEGORY_ID)\n",
        "plt.xlabel('Label')"
      ],
      "execution_count": null,
      "outputs": [
        {
          "output_type": "stream",
          "name": "stderr",
          "text": [
            "/usr/local/lib/python3.7/dist-packages/seaborn/_decorators.py:43: FutureWarning: Pass the following variable as a keyword arg: x. From version 0.12, the only valid positional argument will be `data`, and passing other arguments without an explicit keyword will result in an error or misinterpretation.\n",
            "  FutureWarning\n"
          ]
        },
        {
          "output_type": "execute_result",
          "data": {
            "text/plain": [
              "Text(0.5, 0, 'Label')"
            ]
          },
          "metadata": {},
          "execution_count": 7
        },
        {
          "output_type": "display_data",
          "data": {
            "image/png": "[encoded data removed]",
            "text/plain": [
              "<Figure size 432x288 with 1 Axes>"
            ]
          },
          "metadata": {
            "needs_background": "light"
          }
        }
      ]
    },
    {
      "cell_type": "markdown",
      "metadata": {
        "id": "PWA_vkykgEVK"
      },
      "source": [
        "#### TEST DATA"
      ]
    },
    {
      "cell_type": "code",
      "metadata": {
        "colab": {
          "base_uri": "https://localhost:8080/",
          "height": 203
        },
        "id": "s5jvhYfBf6J5",
        "outputId": "a35b767f-d9c6-45df-af06-20834ae4f3c8"
      },
      "source": [
        "test = pd.read_csv('sample_data/test_n11.csv', error_bad_lines=False, sep='|')\n",
        "test.drop(['DESCRIPTION', 'ID'], axis=1, inplace=True)\n",
        "\n",
        "test.head()"
      ],
      "execution_count": null,
      "outputs": [
        {
          "output_type": "execute_result",
          "data": {
            "text/html": [
              "<div>\n",
              "<style scoped>\n",
              "    .dataframe tbody tr th:only-of-type {\n",
              "        vertical-align: middle;\n",
              "    }\n",
              "\n",
              "    .dataframe tbody tr th {\n",
              "        vertical-align: top;\n",
              "    }\n",
              "\n",
              "    .dataframe thead th {\n",
              "        text-align: right;\n",
              "    }\n",
              "</style>\n",
              "<table border=\"1\" class=\"dataframe\">\n",
              "  <thead>\n",
              "    <tr style=\"text-align: right;\">\n",
              "      <th></th>\n",
              "      <th>TITLE</th>\n",
              "      <th>CATEGORY_ID</th>\n",
              "    </tr>\n",
              "  </thead>\n",
              "  <tbody>\n",
              "    <tr>\n",
              "      <th>0</th>\n",
              "      <td>Gimcat Tahılsız Mint Tips Naneli Şekersiz Kedi...</td>\n",
              "      <td>NaN</td>\n",
              "    </tr>\n",
              "    <tr>\n",
              "      <th>1</th>\n",
              "      <td>Doğadan Şifalı Bitkiler Adaçayı Bardak Poşet 3...</td>\n",
              "      <td>NaN</td>\n",
              "    </tr>\n",
              "    <tr>\n",
              "      <th>2</th>\n",
              "      <td>Dell Precision M3551.P5 i5-10300H 64 GB RAM 1 ...</td>\n",
              "      <td>NaN</td>\n",
              "    </tr>\n",
              "    <tr>\n",
              "      <th>3</th>\n",
              "      <td>Prima Premium Care Bebek Bezi 2 Beden 60'lı</td>\n",
              "      <td>NaN</td>\n",
              "    </tr>\n",
              "    <tr>\n",
              "      <th>4</th>\n",
              "      <td>Hyundai HRS710 Tilki Kuyruğu Testere Elektrikl...</td>\n",
              "      <td>NaN</td>\n",
              "    </tr>\n",
              "  </tbody>\n",
              "</table>\n",
              "</div>"
            ],
            "text/plain": [
              "                                               TITLE  CATEGORY_ID\n",
              "0  Gimcat Tahılsız Mint Tips Naneli Şekersiz Kedi...          NaN\n",
              "1  Doğadan Şifalı Bitkiler Adaçayı Bardak Poşet 3...          NaN\n",
              "2  Dell Precision M3551.P5 i5-10300H 64 GB RAM 1 ...          NaN\n",
              "3        Prima Premium Care Bebek Bezi 2 Beden 60'lı          NaN\n",
              "4  Hyundai HRS710 Tilki Kuyruğu Testere Elektrikl...          NaN"
            ]
          },
          "metadata": {},
          "execution_count": 7
        }
      ]
    },
    {
      "cell_type": "markdown",
      "metadata": {
        "id": "b1K6UTDb7bMM"
      },
      "source": [
        "### NLP Processes"
      ]
    },
    {
      "cell_type": "code",
      "metadata": {
        "id": "p8MJqkc0-ces"
      },
      "source": [
        "# TO LOWERCASE\n",
        "data['TITLE'] = data['TITLE'].str.lower()\n",
        "test['TITLE'] = test['TITLE'].str.lower()\n",
        "\n",
        "\n",
        "# REMOVING PUNCTUATIONS\n",
        "english_punctuations = string.punctuation\n",
        "punctuations_list = english_punctuations\n",
        "def cleaning_punctuations(text):\n",
        "    translator = str.maketrans('', '', punctuations_list)\n",
        "    return text.translate(translator)\n",
        "\n",
        "\n",
        "data['TITLE']= data['TITLE'].apply(lambda x: cleaning_punctuations(x))\n",
        "test['TITLE']= test['TITLE'].apply(lambda x: cleaning_punctuations(x))\n",
        "\n",
        "\n",
        "\n",
        "# CLEANING NUMERIC DATA\n",
        "def cleaning_numbers(data):\n",
        "    return re.sub('[0-9]+', '', data)\n",
        "\n",
        "data['TITLE'] = data['TITLE'].apply(lambda x: cleaning_numbers(x))\n",
        "test['TITLE'] = test['TITLE'].apply(lambda x: cleaning_numbers(x))"
      ],
      "execution_count": null,
      "outputs": []
    },
    {
      "cell_type": "code",
      "metadata": {
        "colab": {
          "base_uri": "https://localhost:8080/"
        },
        "id": "Ew2riRwB_FE9",
        "outputId": "6b56d649-cd74-41b4-f86b-dc79b843370b"
      },
      "source": [
        "tokenizer = RegexpTokenizer(r'\\w+')\n",
        "data['TITLE'] = data['TITLE'].apply(tokenizer.tokenize)\n",
        "data['TITLE'].head()"
      ],
      "execution_count": null,
      "outputs": [
        {
          "output_type": "execute_result",
          "data": {
            "text/plain": [
              "0          [sonia, snx, kulak, üstü, oyuncu, kulaklık]\n",
              "1            [abc, power, sıvı, bulaşık, deterjanı, g]\n",
              "2    [einhell, tecd, li, v, ah, liion, akülü, matka...\n",
              "3    [arzum, ar, olimpia, smart, cyclone, w, filtre...\n",
              "4    [pedigree, biftekli, ve, kümes, hayvanlı, yeti...\n",
              "Name: TITLE, dtype: object"
            ]
          },
          "metadata": {},
          "execution_count": 9
        }
      ]
    },
    {
      "cell_type": "code",
      "metadata": {
        "colab": {
          "base_uri": "https://localhost:8080/"
        },
        "id": "RdUonudwhCwV",
        "outputId": "ed290bb7-52ba-4000-e616-4b9778962c5d"
      },
      "source": [
        "tokenizer = RegexpTokenizer(r'\\w+')\n",
        "test['TITLE'] = test['TITLE'].apply(tokenizer.tokenize)\n",
        "test['TITLE'].head()"
      ],
      "execution_count": null,
      "outputs": [
        {
          "output_type": "execute_result",
          "data": {
            "text/plain": [
              "0    [gimcat, tahılsız, mint, tips, naneli, şekersi...\n",
              "1    [doğadan, şifalı, bitkiler, adaçayı, bardak, p...\n",
              "2    [dell, precision, mp, ih, gb, ram, tb, ssd, gb...\n",
              "3       [prima, premium, care, bebek, bezi, beden, lı]\n",
              "4    [hyundai, hrs, tilki, kuyruğu, testere, elektr...\n",
              "Name: TITLE, dtype: object"
            ]
          },
          "metadata": {},
          "execution_count": 10
        }
      ]
    },
    {
      "cell_type": "code",
      "metadata": {
        "colab": {
          "base_uri": "https://localhost:8080/"
        },
        "id": "irDdBtpTBe2N",
        "outputId": "c48cba31-8ae6-4dfc-b141-9f85599dcc7c"
      },
      "source": [
        "max_fatures = 3000\n",
        "tokenizer = Tokenizer(num_words=max_fatures, split=' ')\n",
        "tokenizer.fit_on_texts(data['TITLE'].values)\n",
        "X = tokenizer.texts_to_sequences(data['TITLE'].values)\n",
        "X = sequence.pad_sequences(X)\n",
        "print(X[:2])\n",
        "\n",
        "max_len = 31"
      ],
      "execution_count": null,
      "outputs": [
        {
          "output_type": "stream",
          "name": "stdout",
          "text": [
            "[[  0   0   0   0   0   0   0   0   0   0   0   0   0   0   0   0   0   0\n",
            "    0   0   0   0   0   0   0   0   0  45 117  79  52]\n",
            " [  0   0   0   0   0   0   0   0   0   0   0   0   0   0   0   0   0   0\n",
            "    0   0   0   0   0   0   0 565 208 200  97 112   5]]\n"
          ]
        }
      ]
    },
    {
      "cell_type": "code",
      "metadata": {
        "colab": {
          "base_uri": "https://localhost:8080/"
        },
        "id": "jKs55YbZhLKn",
        "outputId": "3471e3d4-f9f7-414d-cf20-91b42c3cdab7"
      },
      "source": [
        "X_testset = tokenizer.texts_to_sequences(test['TITLE'])\n",
        "X_testset = sequence.pad_sequences(X_testset,maxlen=31)\n",
        "print(X_testset[:2])"
      ],
      "execution_count": null,
      "outputs": [
        {
          "output_type": "stream",
          "name": "stdout",
          "text": [
            "[[   0    0    0    0    0    0    0    0    0    0    0    0    0    0\n",
            "     0    0    0    0    0    0    0    0    0    0  445  129 1763   10\n",
            "   333    2    5]\n",
            " [   0    0    0    0    0    0    0    0    0    0    0    0    0    0\n",
            "     0    0    0    0    0    0    0    0    0    0    0    0  376  539\n",
            "   370    2   41]]\n"
          ]
        }
      ]
    },
    {
      "cell_type": "code",
      "metadata": {
        "id": "zQ8OVpqwZ0hD"
      },
      "source": [
        "Y = data['CATEGORY_ID']\n",
        "label_encoder = LabelEncoder()\n",
        "encod_y = label_encoder.fit_transform(Y)"
      ],
      "execution_count": null,
      "outputs": []
    },
    {
      "cell_type": "code",
      "metadata": {
        "id": "OitVhMz-aCHs"
      },
      "source": [
        "X_train, X_test, Y_train, Y_test = train_test_split(X,encod_y, test_size = 0.20, random_state = 42)"
      ],
      "execution_count": null,
      "outputs": []
    },
    {
      "cell_type": "markdown",
      "metadata": {
        "id": "0gHMNtQsBxAb"
      },
      "source": [
        "## MODEL TRAINING"
      ]
    },
    {
      "cell_type": "code",
      "metadata": {
        "id": "8IFVLku_BwwP"
      },
      "source": [
        "def tensorflow_based_model():\n",
        "    inputs = Input(name='inputs',shape=[max_len])\n",
        "    layer = Embedding(3000,50,input_length=max_len)(inputs)\n",
        "    layer = LSTM(64)(layer)\n",
        "    layer = Dense(256,name='FC1')(layer)\n",
        "    layer = Activation('relu')(layer)\n",
        "    layer = Dropout(0.5)(layer)\n",
        "    layer = Dense(177,name='out_layer')(layer)\n",
        "    layer = Activation('softmax')(layer)\n",
        "    model = Model(inputs=inputs,outputs=layer) \n",
        "    return model"
      ],
      "execution_count": null,
      "outputs": []
    },
    {
      "cell_type": "code",
      "metadata": {
        "colab": {
          "base_uri": "https://localhost:8080/"
        },
        "id": "9ECvwOXwB8WM",
        "outputId": "2a3a7703-b44d-454a-a5ba-a17cd48d4bb2"
      },
      "source": [
        "# Training the model\n",
        "model = tensorflow_based_model() \n",
        "model.compile(loss=tf.keras.losses.SparseCategoricalCrossentropy()\n",
        ",optimizer=Adam(),metrics=['accuracy'])\n",
        "model.summary()\n",
        "history=model.fit(X_train,Y_train,batch_size=80,epochs=10, validation_split=0.1)\n",
        "\n",
        "\n",
        "# Starting to test the model here\n",
        "accr1 = model.evaluate(X_test,Y_test)\n",
        "print('Test set\\n  Accuracy: {:0.2f}'.format(accr1[1])) "
      ],
      "execution_count": null,
      "outputs": [
        {
          "output_type": "stream",
          "name": "stdout",
          "text": [
            "WARNING:tensorflow:From /tensorflow-1.15.2/python3.7/tensorflow_core/python/keras/initializers.py:119: calling RandomUniform.__init__ (from tensorflow.python.ops.init_ops) with dtype is deprecated and will be removed in a future version.\n",
            "Instructions for updating:\n",
            "Call initializer instance with the dtype argument instead of passing it to the constructor\n",
            "WARNING:tensorflow:From /tensorflow-1.15.2/python3.7/tensorflow_core/python/ops/resource_variable_ops.py:1630: calling BaseResourceVariable.__init__ (from tensorflow.python.ops.resource_variable_ops) with constraint is deprecated and will be removed in a future version.\n",
            "Instructions for updating:\n",
            "If using Keras pass *_constraint arguments to layers.\n",
            "Model: \"model\"\n",
            "_________________________________________________________________\n",
            "Layer (type)                 Output Shape              Param #   \n",
            "=================================================================\n",
            "inputs (InputLayer)          [(None, 31)]              0         \n",
            "_________________________________________________________________\n",
            "embedding (Embedding)        (None, 31, 50)            150000    \n",
            "_________________________________________________________________\n",
            "lstm (LSTM)                  (None, 64)                29440     \n",
            "_________________________________________________________________\n",
            "FC1 (Dense)                  (None, 256)               16640     \n",
            "_________________________________________________________________\n",
            "activation (Activation)      (None, 256)               0         \n",
            "_________________________________________________________________\n",
            "dropout (Dropout)            (None, 256)               0         \n",
            "_________________________________________________________________\n",
            "out_layer (Dense)            (None, 177)               45489     \n",
            "_________________________________________________________________\n",
            "activation_1 (Activation)    (None, 177)               0         \n",
            "=================================================================\n",
            "Total params: 241,569\n",
            "Trainable params: 241,569\n",
            "Non-trainable params: 0\n",
            "_________________________________________________________________\n",
            "WARNING:tensorflow:From /tensorflow-1.15.2/python3.7/tensorflow_core/python/ops/math_grad.py:1424: where (from tensorflow.python.ops.array_ops) is deprecated and will be removed in a future version.\n",
            "Instructions for updating:\n",
            "Use tf.where in 2.0, which has the same broadcast rule as np.where\n",
            "Train on 58903 samples, validate on 6545 samples\n",
            "Epoch 1/10\n",
            "58903/58903 [==============================] - 32s 539us/sample - loss: 2.1838 - acc: 0.5132 - val_loss: 0.4924 - val_acc: 0.8874\n",
            "Epoch 2/10\n",
            "58903/58903 [==============================] - 31s 534us/sample - loss: 0.3918 - acc: 0.9032 - val_loss: 0.1671 - val_acc: 0.9607\n",
            "Epoch 3/10\n",
            "58903/58903 [==============================] - 32s 538us/sample - loss: 0.1760 - acc: 0.9572 - val_loss: 0.1282 - val_acc: 0.9691\n",
            "Epoch 4/10\n",
            "58903/58903 [==============================] - 32s 538us/sample - loss: 0.1216 - acc: 0.9692 - val_loss: 0.1168 - val_acc: 0.9730\n",
            "Epoch 5/10\n",
            "58903/58903 [==============================] - 31s 533us/sample - loss: 0.0974 - acc: 0.9730 - val_loss: 0.1152 - val_acc: 0.9748\n",
            "Epoch 6/10\n",
            "58903/58903 [==============================] - 31s 533us/sample - loss: 0.0778 - acc: 0.9786 - val_loss: 0.1190 - val_acc: 0.9730\n",
            "Epoch 7/10\n",
            "58903/58903 [==============================] - 32s 536us/sample - loss: 0.0682 - acc: 0.9803 - val_loss: 0.1126 - val_acc: 0.9765\n",
            "Epoch 8/10\n",
            "58903/58903 [==============================] - 31s 529us/sample - loss: 0.0610 - acc: 0.9821 - val_loss: 0.1183 - val_acc: 0.9762\n",
            "Epoch 9/10\n",
            "58903/58903 [==============================] - 31s 527us/sample - loss: 0.0536 - acc: 0.9838 - val_loss: 0.1198 - val_acc: 0.9757\n",
            "Epoch 10/10\n",
            "58903/58903 [==============================] - 32s 540us/sample - loss: 0.0492 - acc: 0.9857 - val_loss: 0.1170 - val_acc: 0.9749\n",
            "16363/16363 [==============================] - 3s 175us/sample - loss: 0.1182 - acc: 0.9758\n",
            "Test set\n",
            "  Accuracy: 0.98\n"
          ]
        }
      ]
    },
    {
      "cell_type": "markdown",
      "metadata": {
        "id": "Ab7nJ4_LhbhQ"
      },
      "source": [
        "## RESULTS"
      ]
    },
    {
      "cell_type": "code",
      "metadata": {
        "id": "XyhFupozheHl"
      },
      "source": [
        "final_pred = model.predict(X_testset)"
      ],
      "execution_count": null,
      "outputs": []
    },
    {
      "cell_type": "code",
      "metadata": {
        "id": "e9nRoOWvowVg"
      },
      "source": [
        "doga = []\n",
        "\n",
        "for merve in final_pred:\n",
        "  doga = np.append(doga, encod_y[np.argmax(merve)])"
      ],
      "execution_count": null,
      "outputs": []
    },
    {
      "cell_type": "markdown",
      "metadata": {
        "id": "2vEdCq4R5lvJ"
      },
      "source": [
        "## SUBMISSION"
      ]
    },
    {
      "cell_type": "code",
      "metadata": {
        "colab": {
          "base_uri": "https://localhost:8080/",
          "height": 203
        },
        "id": "ug_pGQYa5lVK",
        "outputId": "b7d43c07-48cd-4cdf-9886-6986b2c384fa"
      },
      "source": [
        "sub = pd.read_csv(\"sample_submission_n11.csv\")\n",
        "sub.drop('Expected',axis=1, inplace = True)\n",
        "sub.head()"
      ],
      "execution_count": null,
      "outputs": [
        {
          "output_type": "execute_result",
          "data": {
            "text/html": [
              "<div>\n",
              "<style scoped>\n",
              "    .dataframe tbody tr th:only-of-type {\n",
              "        vertical-align: middle;\n",
              "    }\n",
              "\n",
              "    .dataframe tbody tr th {\n",
              "        vertical-align: top;\n",
              "    }\n",
              "\n",
              "    .dataframe thead th {\n",
              "        text-align: right;\n",
              "    }\n",
              "</style>\n",
              "<table border=\"1\" class=\"dataframe\">\n",
              "  <thead>\n",
              "    <tr style=\"text-align: right;\">\n",
              "      <th></th>\n",
              "      <th>ID</th>\n",
              "    </tr>\n",
              "  </thead>\n",
              "  <tbody>\n",
              "    <tr>\n",
              "      <th>0</th>\n",
              "      <td>110350</td>\n",
              "    </tr>\n",
              "    <tr>\n",
              "      <th>1</th>\n",
              "      <td>90497</td>\n",
              "    </tr>\n",
              "    <tr>\n",
              "      <th>2</th>\n",
              "      <td>30915</td>\n",
              "    </tr>\n",
              "    <tr>\n",
              "      <th>3</th>\n",
              "      <td>4692</td>\n",
              "    </tr>\n",
              "    <tr>\n",
              "      <th>4</th>\n",
              "      <td>95918</td>\n",
              "    </tr>\n",
              "  </tbody>\n",
              "</table>\n",
              "</div>"
            ],
            "text/plain": [
              "       ID\n",
              "0  110350\n",
              "1   90497\n",
              "2   30915\n",
              "3    4692\n",
              "4   95918"
            ]
          },
          "metadata": {},
          "execution_count": 34
        }
      ]
    },
    {
      "cell_type": "code",
      "metadata": {
        "id": "BXw6WLax7R2i"
      },
      "source": [
        "Y_class = data['CATEGORY_ID'].unique()\n",
        "sorted = np.sort(Y_class)"
      ],
      "execution_count": null,
      "outputs": []
    },
    {
      "cell_type": "code",
      "metadata": {
        "id": "Ftp4Jys3ODgq"
      },
      "source": [
        "sub_prediction = []\n",
        "\n",
        "for x in final_pred:\n",
        "  sub_prediction = np.append(sub_prediction,sorted[np.argmax(x)])"
      ],
      "execution_count": null,
      "outputs": []
    },
    {
      "cell_type": "code",
      "metadata": {
        "colab": {
          "base_uri": "https://localhost:8080/"
        },
        "id": "qKLFuoiuSONp",
        "outputId": "b3067103-954c-426d-b5dc-086de52bca8f"
      },
      "source": [
        "print(sub_prediction)"
      ],
      "execution_count": null,
      "outputs": [
        {
          "output_type": "stream",
          "name": "stdout",
          "text": [
            "[1153150. 1001524. 1000271. ... 1000368. 1000271. 1000476.]\n"
          ]
        }
      ]
    },
    {
      "cell_type": "code",
      "metadata": {
        "colab": {
          "base_uri": "https://localhost:8080/"
        },
        "id": "G7uyJENQThiG",
        "outputId": "083ab39e-e07c-400a-b0d5-43a61787c0f2"
      },
      "source": [
        "sub_prediction.reshape(-1,1)"
      ],
      "execution_count": null,
      "outputs": [
        {
          "output_type": "execute_result",
          "data": {
            "text/plain": [
              "array([[1153150.],\n",
              "       [1001524.],\n",
              "       [1000271.],\n",
              "       ...,\n",
              "       [1000368.],\n",
              "       [1000271.],\n",
              "       [1000476.]])"
            ]
          },
          "metadata": {},
          "execution_count": 52
        }
      ]
    },
    {
      "cell_type": "code",
      "metadata": {
        "id": "vMPakUVWT9vv"
      },
      "source": [
        "sub['Expected'] = sub_prediction"
      ],
      "execution_count": null,
      "outputs": []
    },
    {
      "cell_type": "code",
      "metadata": {
        "colab": {
          "base_uri": "https://localhost:8080/",
          "height": 417
        },
        "id": "DKxRtG_RU4TU",
        "outputId": "978b23ee-126b-485f-b6d9-087cd79bf851"
      },
      "source": [
        "sub"
      ],
      "execution_count": null,
      "outputs": [
        {
          "output_type": "execute_result",
          "data": {
            "text/html": [
              "<div>\n",
              "<style scoped>\n",
              "    .dataframe tbody tr th:only-of-type {\n",
              "        vertical-align: middle;\n",
              "    }\n",
              "\n",
              "    .dataframe tbody tr th {\n",
              "        vertical-align: top;\n",
              "    }\n",
              "\n",
              "    .dataframe thead th {\n",
              "        text-align: right;\n",
              "    }\n",
              "</style>\n",
              "<table border=\"1\" class=\"dataframe\">\n",
              "  <thead>\n",
              "    <tr style=\"text-align: right;\">\n",
              "      <th></th>\n",
              "      <th>ID</th>\n",
              "      <th>Expected</th>\n",
              "    </tr>\n",
              "  </thead>\n",
              "  <tbody>\n",
              "    <tr>\n",
              "      <th>0</th>\n",
              "      <td>110350</td>\n",
              "      <td>1153150.0</td>\n",
              "    </tr>\n",
              "    <tr>\n",
              "      <th>1</th>\n",
              "      <td>90497</td>\n",
              "      <td>1001524.0</td>\n",
              "    </tr>\n",
              "    <tr>\n",
              "      <th>2</th>\n",
              "      <td>30915</td>\n",
              "      <td>1000271.0</td>\n",
              "    </tr>\n",
              "    <tr>\n",
              "      <th>3</th>\n",
              "      <td>4692</td>\n",
              "      <td>1000037.0</td>\n",
              "    </tr>\n",
              "    <tr>\n",
              "      <th>4</th>\n",
              "      <td>95918</td>\n",
              "      <td>1001677.0</td>\n",
              "    </tr>\n",
              "    <tr>\n",
              "      <th>...</th>\n",
              "      <td>...</td>\n",
              "      <td>...</td>\n",
              "    </tr>\n",
              "    <tr>\n",
              "      <th>20448</th>\n",
              "      <td>74187</td>\n",
              "      <td>1000958.0</td>\n",
              "    </tr>\n",
              "    <tr>\n",
              "      <th>20449</th>\n",
              "      <td>59227</td>\n",
              "      <td>1000479.0</td>\n",
              "    </tr>\n",
              "    <tr>\n",
              "      <th>20450</th>\n",
              "      <td>47338</td>\n",
              "      <td>1000368.0</td>\n",
              "    </tr>\n",
              "    <tr>\n",
              "      <th>20451</th>\n",
              "      <td>30573</td>\n",
              "      <td>1000271.0</td>\n",
              "    </tr>\n",
              "    <tr>\n",
              "      <th>20452</th>\n",
              "      <td>58827</td>\n",
              "      <td>1000476.0</td>\n",
              "    </tr>\n",
              "  </tbody>\n",
              "</table>\n",
              "<p>20453 rows × 2 columns</p>\n",
              "</div>"
            ],
            "text/plain": [
              "           ID   Expected\n",
              "0      110350  1153150.0\n",
              "1       90497  1001524.0\n",
              "2       30915  1000271.0\n",
              "3        4692  1000037.0\n",
              "4       95918  1001677.0\n",
              "...       ...        ...\n",
              "20448   74187  1000958.0\n",
              "20449   59227  1000479.0\n",
              "20450   47338  1000368.0\n",
              "20451   30573  1000271.0\n",
              "20452   58827  1000476.0\n",
              "\n",
              "[20453 rows x 2 columns]"
            ]
          },
          "metadata": {},
          "execution_count": 54
        }
      ]
    },
    {
      "cell_type": "code",
      "metadata": {
        "id": "OQtg3zuAVXxr"
      },
      "source": [
        "lstm_final = sub.to_csv('submission4.csv',encoding='utf-8',index= False)"
      ],
      "execution_count": null,
      "outputs": []
    }
  ]
}